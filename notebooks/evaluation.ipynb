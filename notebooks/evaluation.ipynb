{
 "cells": [
  {
   "cell_type": "code",
   "execution_count": 1,
   "id": "other-beverage",
   "metadata": {},
   "outputs": [],
   "source": [
    "GPU_NUMBER = 4\n",
    "DEVICE = 'cpu' if GPU_NUMBER < 0 else 'cuda:{}'.format(GPU_NUMBER)"
   ]
  },
  {
   "cell_type": "code",
   "execution_count": 2,
   "id": "negative-following",
   "metadata": {},
   "outputs": [],
   "source": [
    "import sys\n",
    "sys.path.append(\"../\")"
   ]
  },
  {
   "cell_type": "code",
   "execution_count": 3,
   "id": "empirical-ensemble",
   "metadata": {},
   "outputs": [],
   "source": [
    "from semanticsegmentation.evaluation import *\n",
    "import mmcv"
   ]
  },
  {
   "cell_type": "code",
   "execution_count": 4,
   "id": "innovative-button",
   "metadata": {},
   "outputs": [],
   "source": [
    "cfg = mmcv.Config.fromfile(\"../experiments/config_standfordbackground_v1.0.0.py\")"
   ]
  },
  {
   "cell_type": "code",
   "execution_count": 5,
   "id": "noted-carry",
   "metadata": {},
   "outputs": [
    {
     "name": "stderr",
     "output_type": "stream",
     "text": [
      "100%|██████████| 143/143 [00:10<00:00, 13.31it/s]\n"
     ]
    },
    {
     "data": {
      "text/plain": [
       "(0.8418758636663258,\n",
       " array([0.93028468, 0.85909922, 0.93095402, 0.90719162, 0.        ,\n",
       "        0.89930819, 0.        , 0.79037823]),\n",
       " array([0.88038866, 0.70807626, 0.79698873, 0.71641071, 0.        ,\n",
       "        0.76349607, 0.        , 0.67240772]),\n",
       " 0.5672210173289042)"
      ]
     },
     "execution_count": 5,
     "metadata": {},
     "output_type": "execute_result"
    }
   ],
   "source": [
    "evaluate_dataset(\n",
    "    checkpoint=\"../work_dirs/debug_v1.0.0/iter_100.pth\",\n",
    "    device=DEVICE,\n",
    "    config=cfg,\n",
    ")"
   ]
  },
  {
   "cell_type": "code",
   "execution_count": 6,
   "id": "fitted-latter",
   "metadata": {},
   "outputs": [
    {
     "name": "stderr",
     "output_type": "stream",
     "text": [
      "100%|██████████| 143/143 [00:10<00:00, 14.04it/s]\n"
     ]
    },
    {
     "data": {
      "text/plain": [
       "(0.8412111627342601,\n",
       " array([0.93575635, 0.85810069, 0.93179411, 0.89491031, 0.        ,\n",
       "        0.89850216, 0.        , 0.78680561]),\n",
       " array([0.87687366, 0.70582283, 0.79733402, 0.72048527, 0.        ,\n",
       "        0.76310523, 0.        , 0.66813821]),\n",
       " 0.5664699025316756)"
      ]
     },
     "execution_count": 6,
     "metadata": {},
     "output_type": "execute_result"
    }
   ],
   "source": [
    "evaluate_dataset(\n",
    "    checkpoint=\"../work_dirs/debug_v1.0.0/iter_95.pth\",\n",
    "    device=DEVICE,\n",
    "    config=cfg,\n",
    ")"
   ]
  },
  {
   "cell_type": "code",
   "execution_count": 7,
   "id": "involved-citation",
   "metadata": {},
   "outputs": [
    {
     "name": "stderr",
     "output_type": "stream",
     "text": [
      "100%|██████████| 143/143 [00:10<00:00, 14.12it/s]\n"
     ]
    },
    {
     "data": {
      "text/plain": [
       "(0.6294657893856048,\n",
       " array([0.82028544, 0.06383544, 0.89974162, 0.00158438, 0.        ,\n",
       "        0.98301628, 0.        , 0.554597  ]),\n",
       " array([0.7648855 , 0.06339896, 0.71682039, 0.00157028, 0.        ,\n",
       "        0.41817606, 0.        , 0.44778463]),\n",
       " 0.30157947807206614)"
      ]
     },
     "execution_count": 7,
     "metadata": {},
     "output_type": "execute_result"
    }
   ],
   "source": [
    "evaluate_dataset(\n",
    "    checkpoint=\"../work_dirs/debug_v1.0.0/iter_5.pth\",\n",
    "    device=DEVICE,\n",
    "    config=cfg,\n",
    ")"
   ]
  },
  {
   "cell_type": "code",
   "execution_count": 8,
   "id": "female-brand",
   "metadata": {},
   "outputs": [
    {
     "name": "stderr",
     "output_type": "stream",
     "text": [
      "100%|██████████| 143/143 [00:32<00:00,  4.35it/s]\n"
     ]
    },
    {
     "data": {
      "text/plain": [
       "(0.6294656971812863,\n",
       " array([0.82028544, 0.06383474, 0.89974162, 0.00158438, 0.        ,\n",
       "        0.98301628, 0.        , 0.554597  ]),\n",
       " array([0.76488594, 0.06339827, 0.71682039, 0.00157028, 0.        ,\n",
       "        0.41817589, 0.        , 0.44778463]),\n",
       " 0.30157942434770424)"
      ]
     },
     "execution_count": 8,
     "metadata": {},
     "output_type": "execute_result"
    }
   ],
   "source": [
    "evaluate_dataset(\n",
    "    checkpoint=\"../work_dirs/debug_v1.0.0/iter_5.pth\",\n",
    "    device='cpu',\n",
    "    config=cfg,\n",
    ")"
   ]
  },
  {
   "cell_type": "markdown",
   "id": "motivated-commission",
   "metadata": {},
   "source": [
    "## Single image evaluation"
   ]
  },
  {
   "cell_type": "code",
   "execution_count": 9,
   "id": "premier-soccer",
   "metadata": {},
   "outputs": [],
   "source": [
    "import torch, torchvision\n",
    "import mmseg\n",
    "import mmcv\n",
    "\n",
    "import matplotlib.pyplot as plt\n",
    "import matplotlib.patches as mpatches\n",
    "\n",
    "import os\n",
    "import glob\n",
    "import json\n",
    "import numpy as np\n",
    "from PIL import Image\n",
    "\n",
    "from semanticsegmentation.class_names import *\n",
    "\n",
    "from mmseg.datasets.builder import DATASETS\n",
    "from mmseg.datasets.custom import CustomDataset\n",
    "\n",
    "from mmseg.datasets import build_dataset, build_dataloader\n",
    "from mmseg.models import build_segmentor\n",
    "from mmseg.apis import init_segmentor, inference_segmentor, single_gpu_test, multi_gpu_test"
   ]
  },
  {
   "cell_type": "code",
   "execution_count": 10,
   "id": "romance-narrow",
   "metadata": {},
   "outputs": [],
   "source": [
    "def _evaluate_single_image(\n",
    "    image_path, \n",
    "    checkpoint,\n",
    "    device,\n",
    "    config_file='../experiments/config_standfordbackground.py',\n",
    "    **kwargs\n",
    "):\n",
    "    # prepare image data and ground truth\n",
    "    gt_image_path = image_path.replace(\"images\", \"labels\").replace(\".jpg\", \".regions.txt\")\n",
    "    seg_map = np.loadtxt(gt_image_path).astype(np.uint8)\n",
    "    \n",
    "    # load config\n",
    "    cfg = mmcv.Config.fromfile(config_file)\n",
    "    \n",
    "    # initiate model\n",
    "    model = init_segmentor(cfg, checkpoint, device=device)\n",
    "    \n",
    "    # assign config to model (Required)\n",
    "    model.cfg = cfg\n",
    "    \n",
    "    # inference\n",
    "    img = mmcv.imread(image_path)\n",
    "    result = inference_segmentor(model, img)\n",
    "    \n",
    "    return mmseg.core.evaluation.mean_iou(\n",
    "        results=[result[0]], \n",
    "        gt_seg_maps=[seg_map], \n",
    "        num_classes=cfg.num_classes, \n",
    "        ignore_index=kwargs.get(\"ignore_index\", 255),\n",
    "        label_map=kwargs.get(\"label_map\", {})\n",
    "    )"
   ]
  },
  {
   "cell_type": "code",
   "execution_count": 11,
   "id": "brazilian-parent",
   "metadata": {},
   "outputs": [
    {
     "name": "stderr",
     "output_type": "stream",
     "text": [
      "/data-non-pii-share/rd_ai/mohan/anaconda3/envs/open-mmlab-2/lib/python3.7/site-packages/mmseg/core/evaluation/metrics.py:215: RuntimeWarning: invalid value encountered in true_divide\n",
      "  acc = total_area_intersect / total_area_label\n",
      "/data-non-pii-share/rd_ai/mohan/anaconda3/envs/open-mmlab-2/lib/python3.7/site-packages/mmseg/core/evaluation/metrics.py:219: RuntimeWarning: invalid value encountered in true_divide\n",
      "  iou = total_area_intersect / total_area_union\n"
     ]
    },
    {
     "data": {
      "text/plain": [
       "(0.9595803990610329,\n",
       " array([0.97981962, 0.        , 0.92843427, 0.9930413 ,        nan,\n",
       "               nan,        nan, 0.4151671 ]),\n",
       " array([0.96882432, 0.        , 0.92816007, 0.91442277,        nan,\n",
       "        0.        ,        nan, 0.37319469]))"
      ]
     },
     "execution_count": 11,
     "metadata": {},
     "output_type": "execute_result"
    }
   ],
   "source": [
    "_evaluate_single_image(\n",
    "    image_path=\"/rd-temp/mohan/iccv09Data/images/0011003.jpg\",\n",
    "    checkpoint=\"../work_dirs/debug_v1.0.0/iter_100.pth\",\n",
    "    device=DEVICE\n",
    ")"
   ]
  },
  {
   "cell_type": "code",
   "execution_count": null,
   "id": "russian-devil",
   "metadata": {},
   "outputs": [],
   "source": []
  }
 ],
 "metadata": {
  "kernelspec": {
   "display_name": "Python 3",
   "language": "python",
   "name": "python3"
  },
  "language_info": {
   "codemirror_mode": {
    "name": "ipython",
    "version": 3
   },
   "file_extension": ".py",
   "mimetype": "text/x-python",
   "name": "python",
   "nbconvert_exporter": "python",
   "pygments_lexer": "ipython3",
   "version": "3.7.9"
  }
 },
 "nbformat": 4,
 "nbformat_minor": 5
}
